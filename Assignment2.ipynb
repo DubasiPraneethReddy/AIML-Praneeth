{
 "cells": [
  {
   "cell_type": "code",
   "execution_count": 5,
   "id": "8c0ad2e8-29ea-4a14-9d51-434f3328b260",
   "metadata": {},
   "outputs": [],
   "source": [
    "#Create a List, tuple and Dictionary with 5 elements in it and how to access few elements based on the index. Try  with different examples \n"
   ]
  },
  {
   "cell_type": "code",
   "execution_count": 3,
   "id": "65ed52a7-5ce0-4a11-aded-ddb43a9817b9",
   "metadata": {},
   "outputs": [
    {
     "name": "stdout",
     "output_type": "stream",
     "text": [
      "Accessing element at index 2 in List: 30\n",
      "Accessing element at index 4 in Tuple: 500\n",
      "Accessing the last element of List: 50\n",
      "Accessing the second last element in Tuple: 400\n",
      "Accessing value for 'apple' in Dictionary: 1\n",
      "Accessing value for 'cherry' in Dictionary: 3\n",
      "Slicing elements from index 1 to 3 in List: [20, 30, 40]\n",
      "Slicing elements from index 0 to 2 in Tuple: (100, 200, 300)\n"
     ]
    }
   ],
   "source": [
    "my_list = [10, 20, 30, 40, 50] \n",
    "my_tuple = (100, 200, 300, 400, 500) \n",
    "my_dict = {\"apple\": 1, \"banana\": 2, \"cherry\": 3, \"date\": 4, \"elderberry\": 5} \n",
    "print(f\"Accessing element at index 2 in List: {my_list[2]}\")\n",
    "print(f\"Accessing element at index 4 in Tuple: {my_tuple[4]}\")\n",
    "print(f\"Accessing the last element of List: {my_list[-1]}\")\n",
    "print(f\"Accessing the second last element in Tuple: {my_tuple[-2]}\")\n",
    "print(f\"Accessing value for 'apple' in Dictionary: {my_dict['apple']}\")\n",
    "print(f\"Accessing value for 'cherry' in Dictionary: {my_dict['cherry']}\") \n",
    "print(f\"Slicing elements from index 1 to 3 in List: {my_list[1:4]}\")\n",
    "print(f\"Slicing elements from index 0 to 2 in Tuple: {my_tuple[:3]}\")"
   ]
  },
  {
   "cell_type": "code",
   "execution_count": null,
   "id": "8527faeb-f1fa-4f1f-9787-4bfc553aa751",
   "metadata": {},
   "outputs": [],
   "source": []
  }
 ],
 "metadata": {
  "kernelspec": {
   "display_name": "Python 3 (ipykernel)",
   "language": "python",
   "name": "python3"
  },
  "language_info": {
   "codemirror_mode": {
    "name": "ipython",
    "version": 3
   },
   "file_extension": ".py",
   "mimetype": "text/x-python",
   "name": "python",
   "nbconvert_exporter": "python",
   "pygments_lexer": "ipython3",
   "version": "3.12.4"
  }
 },
 "nbformat": 4,
 "nbformat_minor": 5
}
