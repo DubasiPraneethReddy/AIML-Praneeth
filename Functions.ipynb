{
 "cells": [
  {
   "cell_type": "code",
   "execution_count": 1,
   "id": "88758923-fc56-4843-8d3f-c8442b51586e",
   "metadata": {},
   "outputs": [],
   "source": [
    "greet = lambda name : print(f\"Good Morning {name}!\")"
   ]
  },
  {
   "cell_type": "code",
   "execution_count": 5,
   "id": "e2891785-79a9-4660-ab70-a04063108c29",
   "metadata": {},
   "outputs": [
    {
     "name": "stdout",
     "output_type": "stream",
     "text": [
      "Good Morning Sowmya!\n"
     ]
    }
   ],
   "source": [
    "greet(\"Sowmya\")"
   ]
  },
  {
   "cell_type": "code",
   "execution_count": 7,
   "id": "202401cc-7944-4ac8-a344-53f94e707526",
   "metadata": {},
   "outputs": [],
   "source": [
    "product = lambda a,b,c : a*b*c"
   ]
  },
  {
   "cell_type": "code",
   "execution_count": 9,
   "id": "2df6cb0f-787c-489d-a863-b34634dde4e5",
   "metadata": {},
   "outputs": [
    {
     "data": {
      "text/plain": [
       "24000"
      ]
     },
     "execution_count": 9,
     "metadata": {},
     "output_type": "execute_result"
    }
   ],
   "source": [
    "product(20,30,40)"
   ]
  },
  {
   "cell_type": "code",
   "execution_count": 11,
   "id": "cc2cf911-6e65-45fa-a5a7-964ff8ae32f1",
   "metadata": {},
   "outputs": [],
   "source": [
    "even = lambda L: [x for x in L if x%2 == 0]"
   ]
  },
  {
   "cell_type": "code",
   "execution_count": 13,
   "id": "20371721-1850-494a-be84-e0839ddc630c",
   "metadata": {},
   "outputs": [
    {
     "data": {
      "text/plain": [
       "[100, 38, 56, 20]"
      ]
     },
     "execution_count": 13,
     "metadata": {},
     "output_type": "execute_result"
    }
   ],
   "source": [
    "my_list = [100,3,9,38,43,56,20]\n",
    "even(my_list)"
   ]
  },
  {
   "cell_type": "code",
   "execution_count": 15,
   "id": "10701b43-a9cc-4de1-bba0-5c17daa3c43a",
   "metadata": {},
   "outputs": [],
   "source": [
    "def mean_value(*n):\n",
    "    sum = 0\n",
    "    counter = 0\n",
    "    for x in n:\n",
    "        counter = counter +1 \n",
    "        sum += x\n",
    "    mean = sum/counter\n",
    "    return mean"
   ]
  },
  {
   "cell_type": "code",
   "execution_count": 19,
   "id": "58dcafe9-085c-4be1-be89-5f28ce1d719d",
   "metadata": {},
   "outputs": [],
   "source": [
    "def product(*n):\n",
    "    result = 1\n",
    "    for i in range(len(n)):\n",
    "        result *= [i]\n",
    "    return result"
   ]
  },
  {
   "cell_type": "code",
   "execution_count": null,
   "id": "c9c0b7e0-2160-4eec-8f02-10300ec98a76",
   "metadata": {},
   "outputs": [],
   "source": []
  }
 ],
 "metadata": {
  "kernelspec": {
   "display_name": "Python 3 (ipykernel)",
   "language": "python",
   "name": "python3"
  },
  "language_info": {
   "codemirror_mode": {
    "name": "ipython",
    "version": 3
   },
   "file_extension": ".py",
   "mimetype": "text/x-python",
   "name": "python",
   "nbconvert_exporter": "python",
   "pygments_lexer": "ipython3",
   "version": "3.12.4"
  }
 },
 "nbformat": 4,
 "nbformat_minor": 5
}
