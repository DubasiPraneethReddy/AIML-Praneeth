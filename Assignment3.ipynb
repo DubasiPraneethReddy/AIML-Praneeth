{
 "cells": [
  {
   "cell_type": "code",
   "execution_count": 3,
   "id": "a17e403a-8b66-4a96-a81c-5701a3c0eee5",
   "metadata": {},
   "outputs": [],
   "source": [
    "#Write a Python program that takes a student's marks in three subjects as input.\n",
    "#If the average is greater than or equal to 90, print \"Grade: A\".\n",
    "#If the average is between 80 and 89, print \"Grade: B\".\n",
    "#If the average is between 70 and 79, print \"Grade: C\".\n",
    "#Otherwise, print \"Grade: Fail\".\n"
   ]
  },
  {
   "cell_type": "code",
   "execution_count": 1,
   "id": "a3ef6abf-e0af-4475-a4a8-5be2c3371ee0",
   "metadata": {},
   "outputs": [
    {
     "name": "stdin",
     "output_type": "stream",
     "text": [
      "Enter marks for mathematics:  60\n",
      "Enter marks for english:  54\n",
      "Enter marks for science:  67\n"
     ]
    },
    {
     "name": "stdout",
     "output_type": "stream",
     "text": [
      "Grade: Fail\n"
     ]
    }
   ],
   "source": [
    "mathematics = float(input(\"Enter marks for mathematics: \"))\n",
    "english = float(input(\"Enter marks for english: \"))\n",
    "science = float(input(\"Enter marks for science: \"))\n",
    "\n",
    "average = (mathematics + english + science) / 3\n",
    "if average >= 90:\n",
    "    print(\"Grade: A\")\n",
    "elif 80 <= average < 90:\n",
    "    print(\"Grade: B\")\n",
    "elif 70 <= average < 80:\n",
    "    print(\"Grade: C\")\n",
    "else:\n",
    "    print(\"Grade: Fail\")"
   ]
  },
  {
   "cell_type": "code",
   "execution_count": null,
   "id": "7002501d-84f4-4a8c-99a7-6f7e382b6593",
   "metadata": {},
   "outputs": [],
   "source": []
  }
 ],
 "metadata": {
  "kernelspec": {
   "display_name": "Python 3 (ipykernel)",
   "language": "python",
   "name": "python3"
  },
  "language_info": {
   "codemirror_mode": {
    "name": "ipython",
    "version": 3
   },
   "file_extension": ".py",
   "mimetype": "text/x-python",
   "name": "python",
   "nbconvert_exporter": "python",
   "pygments_lexer": "ipython3",
   "version": "3.12.4"
  }
 },
 "nbformat": 4,
 "nbformat_minor": 5
}
