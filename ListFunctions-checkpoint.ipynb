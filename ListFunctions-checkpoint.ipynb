{
 "cells": [
  {
   "cell_type": "code",
   "execution_count": 40,
   "id": "491c228f-1a85-4a89-9361-2c89f2a09497",
   "metadata": {},
   "outputs": [
    {
     "name": "stdout",
     "output_type": "stream",
     "text": [
      "[['apple', 10], ['banana', 5], ['cherry', 10], ['dragon', 10], ['grape', 9], ['apple', 20]]\n"
     ]
    }
   ],
   "source": [
    "orders =[['apple',10],['banana',5],['cherry',7],['dragon',10],['grape',9],['apple',20]]\n",
    "for each in orders:\n",
    "    if each[0]==\"cherry\":\n",
    "        each[1] =10\n",
    "print(orders)"
   ]
  },
  {
   "cell_type": "code",
   "execution_count": 42,
   "id": "64d36627-a4e2-493f-9e48-c396d9d7cfeb",
   "metadata": {},
   "outputs": [
    {
     "name": "stdout",
     "output_type": "stream",
     "text": [
      "[['apple', 10], ['banana', 5], ['cherry', 10], ['dragon', 10], ['grape', 9], ['apple', 20], ['apple', 15]]\n",
      "[10, 20, 15]\n",
      "45\n"
     ]
    }
   ],
   "source": [
    "orders.append(['apple',15])\n",
    "print(orders)\n",
    "\n",
    "total = []\n",
    "for each_item in orders:\n",
    "    if each_item[0]==\"apple\":\n",
    "        total.append(each_item[1])\n",
    "print(total)\n",
    "print(sum(total))"
   ]
  },
  {
   "cell_type": "code",
   "execution_count": 70,
   "id": "d95ffc0e-2dee-460e-9146-3737913b40a0",
   "metadata": {},
   "outputs": [
    {
     "name": "stdout",
     "output_type": "stream",
     "text": [
      "(4, 10, 'a', 9.81, False, (9-6j))\n",
      "<class 'tuple'>\n",
      "<class 'complex'>\n",
      "(9.81, False)\n"
     ]
    },
    {
     "data": {
      "text/plain": [
       "4"
      ]
     },
     "execution_count": 70,
     "metadata": {},
     "output_type": "execute_result"
    }
   ],
   "source": [
    "t1 = (4,10,\"a\",9.81,False,9-6j)\n",
    "print(t1)\n",
    "print(type(t1))\n",
    "print(type(t1[5]))\n",
    "print(t1[3:5])\n",
    "t1.index(False)\n",
    "t2 = (10,2,50,10,10,80,10)\n",
    "t2.count(10)"
   ]
  },
  {
   "cell_type": "code",
   "execution_count": 2,
   "id": "e71d8269-3f11-4fb2-92a8-cad21f0863be",
   "metadata": {},
   "outputs": [
    {
     "data": {
      "text/plain": [
       "{2, 3, 4}"
      ]
     },
     "execution_count": 2,
     "metadata": {},
     "output_type": "execute_result"
    }
   ],
   "source": [
    "# Difference of two sets \n",
    "s1 = {2,3,4,5,6,7}\n",
    "s2 = {5,6,7}\n",
    "s1 - s2 "
   ]
  },
  {
   "cell_type": "code",
   "execution_count": 8,
   "id": "5b849051-7f2b-480b-b346-73d3ba17b843",
   "metadata": {},
   "outputs": [
    {
     "data": {
      "text/plain": [
       "False"
      ]
     },
     "execution_count": 8,
     "metadata": {},
     "output_type": "execute_result"
    }
   ],
   "source": [
    "s2.issubset(s1)\n",
    "s2.issuperset(s1)"
   ]
  },
  {
   "cell_type": "code",
   "execution_count": 18,
   "id": "14ff5dc2-811d-405d-95b7-d45867452135",
   "metadata": {},
   "outputs": [
    {
     "name": "stdout",
     "output_type": "stream",
     "text": [
      "Welcome to aiml class\n",
      "We started with python\n",
      "This is an awesome class\n"
     ]
    }
   ],
   "source": [
    "str1 = \"Welcome to aiml class\"\n",
    "print(str1)\n",
    "str2 = 'We started with python'\n",
    "print(str2)\n",
    "str3 = '''This is an awesome class'''\n",
    "print(str3)"
   ]
  },
  {
   "cell_type": "code",
   "execution_count": 20,
   "id": "19f421a3-67bc-4394-a83d-d0341f2174eb",
   "metadata": {},
   "outputs": [
    {
     "name": "stdout",
     "output_type": "stream",
     "text": [
      "Welcome to aiml class\n"
     ]
    },
    {
     "data": {
      "text/plain": [
       "'me to'"
      ]
     },
     "execution_count": 20,
     "metadata": {},
     "output_type": "execute_result"
    }
   ],
   "source": [
    "print(str1)\n",
    "str1[5:10]"
   ]
  },
  {
   "cell_type": "code",
   "execution_count": 22,
   "id": "4c09c89b-a6e0-4df2-bf54-f7f8a3c47a45",
   "metadata": {},
   "outputs": [
    {
     "data": {
      "text/plain": [
       "'The product is awesome;Great service'"
      ]
     },
     "execution_count": 22,
     "metadata": {},
     "output_type": "execute_result"
    }
   ],
   "source": [
    "reviews = [\"The product is awesome\",\"Great service\"]\n",
    "joined_string = ';'.join(reviews)\n",
    "joined_string"
   ]
  },
  {
   "cell_type": "code",
   "execution_count": 28,
   "id": "ad039995-d058-4590-9af3-c6816a1ba650",
   "metadata": {},
   "outputs": [
    {
     "data": {
      "text/plain": [
       "'    hello,how are you?        '"
      ]
     },
     "execution_count": 28,
     "metadata": {},
     "output_type": "execute_result"
    }
   ],
   "source": [
    "str5 = \"    Hello,How Are You?        \"\n",
    "str5.strip()\n",
    "str5.lower()"
   ]
  },
  {
   "cell_type": "code",
   "execution_count": null,
   "id": "8f5b9de7-1378-45e0-8c9e-c7dbb6b3bb6f",
   "metadata": {},
   "outputs": [],
   "source": []
  }
 ],
 "metadata": {
  "kernelspec": {
   "display_name": "Python 3 (ipykernel)",
   "language": "python",
   "name": "python3"
  },
  "language_info": {
   "codemirror_mode": {
    "name": "ipython",
    "version": 3
   },
   "file_extension": ".py",
   "mimetype": "text/x-python",
   "name": "python",
   "nbconvert_exporter": "python",
   "pygments_lexer": "ipython3",
   "version": "3.12.4"
  }
 },
 "nbformat": 4,
 "nbformat_minor": 5
}
