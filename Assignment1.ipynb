{
 "cells": [
  {
   "cell_type": "code",
   "execution_count": 5,
   "id": "25918ae1-7eed-4ef2-ae54-e1b33fc59f18",
   "metadata": {},
   "outputs": [],
   "source": [
    "#Write a program in Jupyter Notebook to declare variables of different data types (integer, float, string, and boolean). Print each variable and its type.\n"
   ]
  },
  {
   "cell_type": "code",
   "execution_count": 3,
   "id": "441ff65e-a870-4a0d-8f43-18d5b68feaa4",
   "metadata": {},
   "outputs": [
    {
     "name": "stdout",
     "output_type": "stream",
     "text": [
      "Integer: 165, Type: <class 'int'>\n",
      "Float: 10.09, Type: <class 'float'>\n",
      "String: Welcome to MRU, Type: <class 'str'>\n",
      "Boolean Variable: False, Type: <class 'bool'>\n"
     ]
    }
   ],
   "source": [
    "a = 165                \n",
    "b = 10.09                \n",
    "c = \"Welcome to MRU\"    \n",
    "d = False              \n",
    "print(f\"Integer: {a}, Type: {type(a)}\")\n",
    "print(f\"Float: {b}, Type: {type(b)}\")\n",
    "print(f\"String: {c}, Type: {type(c)}\")\n",
    "print(f\"Boolean Variable: {d}, Type: {type(d)}\")"
   ]
  }
 ],
 "metadata": {
  "kernelspec": {
   "display_name": "Python 3 (ipykernel)",
   "language": "python",
   "name": "python3"
  },
  "language_info": {
   "codemirror_mode": {
    "name": "ipython",
    "version": 3
   },
   "file_extension": ".py",
   "mimetype": "text/x-python",
   "name": "python",
   "nbconvert_exporter": "python",
   "pygments_lexer": "ipython3",
   "version": "3.12.4"
  }
 },
 "nbformat": 4,
 "nbformat_minor": 5
}
