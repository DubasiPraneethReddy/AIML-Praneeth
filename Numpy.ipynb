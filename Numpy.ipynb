{
 "cells": [
  {
   "cell_type": "code",
   "execution_count": 6,
   "id": "89fed58b-a782-4ada-be76-d4904f81d570",
   "metadata": {},
   "outputs": [],
   "source": [
    "import numpy as np "
   ]
  },
  {
   "cell_type": "code",
   "execution_count": 8,
   "id": "62b63085-365d-4593-b82e-5b9c91e06396",
   "metadata": {},
   "outputs": [
    {
     "name": "stdout",
     "output_type": "stream",
     "text": [
      "['A' '67' '57' '90']\n",
      "<class 'numpy.ndarray'>\n",
      "<U11\n"
     ]
    }
   ],
   "source": [
    "x = np.array([\"A\",67,57,90])\n",
    "print(x)\n",
    "print(type(x))\n",
    "print(x.dtype)"
   ]
  },
  {
   "cell_type": "code",
   "execution_count": 10,
   "id": "28ac72bb-c95d-46f9-8e2e-f906f2ec461f",
   "metadata": {},
   "outputs": [
    {
     "name": "stdout",
     "output_type": "stream",
     "text": [
      "[[20 40]\n",
      " [30 60]]\n",
      "<class 'numpy.ndarray'>\n"
     ]
    }
   ],
   "source": [
    "a2=np.array([[20,40],[30,60]])\n",
    "print(a2)\n",
    "print(type(a2))"
   ]
  },
  {
   "cell_type": "code",
   "execution_count": 12,
   "id": "ecafb5ff-1dcd-464c-980c-228a2f04e9ba",
   "metadata": {},
   "outputs": [
    {
     "name": "stdout",
     "output_type": "stream",
     "text": [
      "[[10 20]\n",
      " [30 40]]\n",
      "(2, 2)\n"
     ]
    }
   ],
   "source": [
    "a = np.array([10,20,30,40])\n",
    "b = a.reshape(2,2)\n",
    "print(b)\n",
    "print(b.shape)"
   ]
  },
  {
   "cell_type": "code",
   "execution_count": 16,
   "id": "637b0cd2-ab6b-4a2f-a644-c23599d95871",
   "metadata": {},
   "outputs": [
    {
     "name": "stdout",
     "output_type": "stream",
     "text": [
      "[ 3  4  5  6  7  8  9 10 11 12 13 14 15 16 17 18 19]\n"
     ]
    },
    {
     "data": {
      "text/plain": [
       "numpy.ndarray"
      ]
     },
     "execution_count": 16,
     "metadata": {},
     "output_type": "execute_result"
    }
   ],
   "source": [
    "c = np.arange(3,20)\n",
    "print(c)\n",
    "type(c)"
   ]
  },
  {
   "cell_type": "code",
   "execution_count": 20,
   "id": "c6ac92fa-9d0a-42e1-8fcc-d16457a9f096",
   "metadata": {},
   "outputs": [
    {
     "data": {
      "text/plain": [
       "array([[ 3,  4,  6],\n",
       "       [ 7,  9, 10],\n",
       "       [ 4,  6, 12]])"
      ]
     },
     "execution_count": 20,
     "metadata": {},
     "output_type": "execute_result"
    }
   ],
   "source": [
    "a2 = np.array([[3,4,6],[7,9,10],[4,6,12]])\n",
    "a2\n"
   ]
  },
  {
   "cell_type": "code",
   "execution_count": 22,
   "id": "859041c2-9f9b-4f34-9089-e0ffa3681a33",
   "metadata": {},
   "outputs": [
    {
     "name": "stdout",
     "output_type": "stream",
     "text": [
      "[13 26 22]\n",
      "[14 19 28]\n",
      "[[ 3  4  6]\n",
      " [ 7  9 10]\n",
      " [ 4  6 12]]\n",
      "[4.33333333 8.66666667 7.33333333]\n",
      "[4.66666667 6.33333333 9.33333333]\n"
     ]
    }
   ],
   "source": [
    "print(a2.sum(axis = 1))\n",
    "print(a2.sum(axis = 0))\n",
    "print(a2)\n",
    "print(np.mean(a2, axis =1))\n",
    "print(np.mean(a2, axis =0))"
   ]
  },
  {
   "cell_type": "code",
   "execution_count": 24,
   "id": "3ab9ac76-afd4-4e93-8673-edfc3c415e50",
   "metadata": {},
   "outputs": [
    {
     "name": "stdout",
     "output_type": "stream",
     "text": [
      "[[3 4 5]\n",
      " [7 2 8]\n",
      " [9 1 6]]\n",
      "[[0 4 5]\n",
      " [7 0 8]\n",
      " [9 1 0]]\n"
     ]
    }
   ],
   "source": [
    "a3 = np.array([[3,4,5],[7,2,8],[9,1,6]])\n",
    "print(a3)\n",
    "np.fill_diagonal(a3,0)\n",
    "print(a3)"
   ]
  },
  {
   "cell_type": "code",
   "execution_count": 32,
   "id": "41dc1a5f-e28f-438b-96f1-ab845513e87d",
   "metadata": {},
   "outputs": [
    {
     "name": "stdout",
     "output_type": "stream",
     "text": [
      "[[ 3  4  5]\n",
      " [ 7  8  9]\n",
      " [ 9  1  6]\n",
      " [10  9 18]]\n"
     ]
    },
    {
     "data": {
      "text/plain": [
       "array([[ 4,  5],\n",
       "       [ 8,  9],\n",
       "       [ 1,  6],\n",
       "       [ 9, 18]])"
      ]
     },
     "execution_count": 32,
     "metadata": {},
     "output_type": "execute_result"
    }
   ],
   "source": [
    "a4 = np.array([[3,4,5],[7,8,9],[9,1,6],[10,9,18]])\n",
    "print(a4)\n",
    "a4[2][1]\n",
    "a4[:,1:]"
   ]
  },
  {
   "cell_type": "code",
   "execution_count": 36,
   "id": "34375714-038e-49d7-9171-1fd565a65a89",
   "metadata": {},
   "outputs": [
    {
     "data": {
      "text/plain": [
       "array([[7, 8],\n",
       "       [9, 1]])"
      ]
     },
     "execution_count": 36,
     "metadata": {},
     "output_type": "execute_result"
    }
   ],
   "source": [
    "a4[1:3,:2]"
   ]
  },
  {
   "cell_type": "code",
   "execution_count": null,
   "id": "6a3f6ecd-15cb-437d-a5ef-66e77eca8f90",
   "metadata": {},
   "outputs": [],
   "source": []
  }
 ],
 "metadata": {
  "kernelspec": {
   "display_name": "Python 3 (ipykernel)",
   "language": "python",
   "name": "python3"
  },
  "language_info": {
   "codemirror_mode": {
    "name": "ipython",
    "version": 3
   },
   "file_extension": ".py",
   "mimetype": "text/x-python",
   "name": "python",
   "nbconvert_exporter": "python",
   "pygments_lexer": "ipython3",
   "version": "3.12.4"
  }
 },
 "nbformat": 4,
 "nbformat_minor": 5
}
